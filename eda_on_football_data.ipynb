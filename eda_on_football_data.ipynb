{
 "cells": [
  {
   "cell_type": "markdown",
   "metadata": {},
   "source": [
    "---"
   ]
  },
  {
   "cell_type": "markdown",
   "metadata": {},
   "source": [
    "## Importing Libraries"
   ]
  },
  {
   "cell_type": "code",
   "execution_count": 1,
   "metadata": {},
   "outputs": [],
   "source": [
    "import numpy as np\n",
    "import pandas as pd\n",
    "import matplotlib.pyplot as plt\n",
    "import seaborn as sns\n",
    "%matplotlib inline"
   ]
  },
  {
   "cell_type": "markdown",
   "metadata": {},
   "source": [
    "## Loading Dataset"
   ]
  },
  {
   "cell_type": "code",
   "execution_count": 5,
   "metadata": {},
   "outputs": [],
   "source": [
    "epl_df = pd.read_csv('D:\\git_repositories\\PythonProject2-Exploratory_Data_Analysis_Using_Python\\Data\\EPL_20_21.csv')"
   ]
  },
  {
   "cell_type": "code",
   "execution_count": 6,
   "metadata": {},
   "outputs": [
    {
     "data": {
      "text/html": [
       "<div>\n",
       "<style scoped>\n",
       "    .dataframe tbody tr th:only-of-type {\n",
       "        vertical-align: middle;\n",
       "    }\n",
       "\n",
       "    .dataframe tbody tr th {\n",
       "        vertical-align: top;\n",
       "    }\n",
       "\n",
       "    .dataframe thead th {\n",
       "        text-align: right;\n",
       "    }\n",
       "</style>\n",
       "<table border=\"1\" class=\"dataframe\">\n",
       "  <thead>\n",
       "    <tr style=\"text-align: right;\">\n",
       "      <th></th>\n",
       "      <th>Name</th>\n",
       "      <th>Club</th>\n",
       "      <th>Nationality</th>\n",
       "      <th>Position</th>\n",
       "      <th>Age</th>\n",
       "      <th>Matches</th>\n",
       "      <th>Starts</th>\n",
       "      <th>Mins</th>\n",
       "      <th>Goals</th>\n",
       "      <th>Assists</th>\n",
       "      <th>Passes_Attempted</th>\n",
       "      <th>Perc_Passes_Completed</th>\n",
       "      <th>Penalty_Goals</th>\n",
       "      <th>Penalty_Attempted</th>\n",
       "      <th>xG</th>\n",
       "      <th>xA</th>\n",
       "      <th>Yellow_Cards</th>\n",
       "      <th>Red_Cards</th>\n",
       "    </tr>\n",
       "  </thead>\n",
       "  <tbody>\n",
       "    <tr>\n",
       "      <th>0</th>\n",
       "      <td>Mason Mount</td>\n",
       "      <td>Chelsea</td>\n",
       "      <td>ENG</td>\n",
       "      <td>MF,FW</td>\n",
       "      <td>21</td>\n",
       "      <td>36</td>\n",
       "      <td>32</td>\n",
       "      <td>2890</td>\n",
       "      <td>6</td>\n",
       "      <td>5</td>\n",
       "      <td>1881</td>\n",
       "      <td>82.3</td>\n",
       "      <td>1</td>\n",
       "      <td>1</td>\n",
       "      <td>0.21</td>\n",
       "      <td>0.24</td>\n",
       "      <td>2</td>\n",
       "      <td>0</td>\n",
       "    </tr>\n",
       "    <tr>\n",
       "      <th>1</th>\n",
       "      <td>Edouard Mendy</td>\n",
       "      <td>Chelsea</td>\n",
       "      <td>SEN</td>\n",
       "      <td>GK</td>\n",
       "      <td>28</td>\n",
       "      <td>31</td>\n",
       "      <td>31</td>\n",
       "      <td>2745</td>\n",
       "      <td>0</td>\n",
       "      <td>0</td>\n",
       "      <td>1007</td>\n",
       "      <td>84.6</td>\n",
       "      <td>0</td>\n",
       "      <td>0</td>\n",
       "      <td>0.00</td>\n",
       "      <td>0.00</td>\n",
       "      <td>2</td>\n",
       "      <td>0</td>\n",
       "    </tr>\n",
       "    <tr>\n",
       "      <th>2</th>\n",
       "      <td>Timo Werner</td>\n",
       "      <td>Chelsea</td>\n",
       "      <td>GER</td>\n",
       "      <td>FW</td>\n",
       "      <td>24</td>\n",
       "      <td>35</td>\n",
       "      <td>29</td>\n",
       "      <td>2602</td>\n",
       "      <td>6</td>\n",
       "      <td>8</td>\n",
       "      <td>826</td>\n",
       "      <td>77.2</td>\n",
       "      <td>0</td>\n",
       "      <td>0</td>\n",
       "      <td>0.41</td>\n",
       "      <td>0.21</td>\n",
       "      <td>2</td>\n",
       "      <td>0</td>\n",
       "    </tr>\n",
       "    <tr>\n",
       "      <th>3</th>\n",
       "      <td>Ben Chilwell</td>\n",
       "      <td>Chelsea</td>\n",
       "      <td>ENG</td>\n",
       "      <td>DF</td>\n",
       "      <td>23</td>\n",
       "      <td>27</td>\n",
       "      <td>27</td>\n",
       "      <td>2286</td>\n",
       "      <td>3</td>\n",
       "      <td>5</td>\n",
       "      <td>1806</td>\n",
       "      <td>78.6</td>\n",
       "      <td>0</td>\n",
       "      <td>0</td>\n",
       "      <td>0.10</td>\n",
       "      <td>0.11</td>\n",
       "      <td>3</td>\n",
       "      <td>0</td>\n",
       "    </tr>\n",
       "    <tr>\n",
       "      <th>4</th>\n",
       "      <td>Reece James</td>\n",
       "      <td>Chelsea</td>\n",
       "      <td>ENG</td>\n",
       "      <td>DF</td>\n",
       "      <td>20</td>\n",
       "      <td>32</td>\n",
       "      <td>25</td>\n",
       "      <td>2373</td>\n",
       "      <td>1</td>\n",
       "      <td>2</td>\n",
       "      <td>1987</td>\n",
       "      <td>85.0</td>\n",
       "      <td>0</td>\n",
       "      <td>0</td>\n",
       "      <td>0.06</td>\n",
       "      <td>0.12</td>\n",
       "      <td>3</td>\n",
       "      <td>0</td>\n",
       "    </tr>\n",
       "  </tbody>\n",
       "</table>\n",
       "</div>"
      ],
      "text/plain": [
       "            Name     Club Nationality Position  Age  Matches  Starts  Mins  \\\n",
       "0    Mason Mount  Chelsea         ENG    MF,FW   21       36      32  2890   \n",
       "1  Edouard Mendy  Chelsea         SEN       GK   28       31      31  2745   \n",
       "2    Timo Werner  Chelsea         GER       FW   24       35      29  2602   \n",
       "3   Ben Chilwell  Chelsea         ENG       DF   23       27      27  2286   \n",
       "4    Reece James  Chelsea         ENG       DF   20       32      25  2373   \n",
       "\n",
       "   Goals  Assists  Passes_Attempted  Perc_Passes_Completed  Penalty_Goals  \\\n",
       "0      6        5              1881                   82.3              1   \n",
       "1      0        0              1007                   84.6              0   \n",
       "2      6        8               826                   77.2              0   \n",
       "3      3        5              1806                   78.6              0   \n",
       "4      1        2              1987                   85.0              0   \n",
       "\n",
       "   Penalty_Attempted    xG    xA  Yellow_Cards  Red_Cards  \n",
       "0                  1  0.21  0.24             2          0  \n",
       "1                  0  0.00  0.00             2          0  \n",
       "2                  0  0.41  0.21             2          0  \n",
       "3                  0  0.10  0.11             3          0  \n",
       "4                  0  0.06  0.12             3          0  "
      ]
     },
     "execution_count": 6,
     "metadata": {},
     "output_type": "execute_result"
    }
   ],
   "source": [
    "epl_df.head()"
   ]
  },
  {
   "cell_type": "markdown",
   "metadata": {},
   "source": [
    "**Information about the dataset**"
   ]
  },
  {
   "cell_type": "code",
   "execution_count": 7,
   "metadata": {},
   "outputs": [
    {
     "name": "stdout",
     "output_type": "stream",
     "text": [
      "<class 'pandas.core.frame.DataFrame'>\n",
      "RangeIndex: 532 entries, 0 to 531\n",
      "Data columns (total 18 columns):\n",
      " #   Column                 Non-Null Count  Dtype  \n",
      "---  ------                 --------------  -----  \n",
      " 0   Name                   532 non-null    object \n",
      " 1   Club                   532 non-null    object \n",
      " 2   Nationality            532 non-null    object \n",
      " 3   Position               532 non-null    object \n",
      " 4   Age                    532 non-null    int64  \n",
      " 5   Matches                532 non-null    int64  \n",
      " 6   Starts                 532 non-null    int64  \n",
      " 7   Mins                   532 non-null    int64  \n",
      " 8   Goals                  532 non-null    int64  \n",
      " 9   Assists                532 non-null    int64  \n",
      " 10  Passes_Attempted       532 non-null    int64  \n",
      " 11  Perc_Passes_Completed  532 non-null    float64\n",
      " 12  Penalty_Goals          532 non-null    int64  \n",
      " 13  Penalty_Attempted      532 non-null    int64  \n",
      " 14  xG                     532 non-null    float64\n",
      " 15  xA                     532 non-null    float64\n",
      " 16  Yellow_Cards           532 non-null    int64  \n",
      " 17  Red_Cards              532 non-null    int64  \n",
      "dtypes: float64(3), int64(11), object(4)\n",
      "memory usage: 74.9+ KB\n"
     ]
    }
   ],
   "source": [
    "epl_df.info()"
   ]
  },
  {
   "cell_type": "markdown",
   "metadata": {},
   "source": [
    "**Checking null values**"
   ]
  },
  {
   "cell_type": "code",
   "execution_count": 9,
   "metadata": {},
   "outputs": [
    {
     "data": {
      "text/plain": [
       "Name                     0\n",
       "Club                     0\n",
       "Nationality              0\n",
       "Position                 0\n",
       "Age                      0\n",
       "Matches                  0\n",
       "Starts                   0\n",
       "Mins                     0\n",
       "Goals                    0\n",
       "Assists                  0\n",
       "Passes_Attempted         0\n",
       "Perc_Passes_Completed    0\n",
       "Penalty_Goals            0\n",
       "Penalty_Attempted        0\n",
       "xG                       0\n",
       "xA                       0\n",
       "Yellow_Cards             0\n",
       "Red_Cards                0\n",
       "dtype: int64"
      ]
     },
     "execution_count": 9,
     "metadata": {},
     "output_type": "execute_result"
    }
   ],
   "source": [
    "epl_df.isna().sum()"
   ]
  },
  {
   "cell_type": "markdown",
   "metadata": {},
   "source": [
    "In this English Premier League (2020-2021) dataset, we can see that there are 18 columns, 532 rows and no missing values."
   ]
  },
  {
   "cell_type": "code",
   "execution_count": 8,
   "metadata": {},
   "outputs": [
    {
     "data": {
      "text/html": [
       "<div>\n",
       "<style scoped>\n",
       "    .dataframe tbody tr th:only-of-type {\n",
       "        vertical-align: middle;\n",
       "    }\n",
       "\n",
       "    .dataframe tbody tr th {\n",
       "        vertical-align: top;\n",
       "    }\n",
       "\n",
       "    .dataframe thead th {\n",
       "        text-align: right;\n",
       "    }\n",
       "</style>\n",
       "<table border=\"1\" class=\"dataframe\">\n",
       "  <thead>\n",
       "    <tr style=\"text-align: right;\">\n",
       "      <th></th>\n",
       "      <th>Age</th>\n",
       "      <th>Matches</th>\n",
       "      <th>Starts</th>\n",
       "      <th>Mins</th>\n",
       "      <th>Goals</th>\n",
       "      <th>Assists</th>\n",
       "      <th>Passes_Attempted</th>\n",
       "      <th>Perc_Passes_Completed</th>\n",
       "      <th>Penalty_Goals</th>\n",
       "      <th>Penalty_Attempted</th>\n",
       "      <th>xG</th>\n",
       "      <th>xA</th>\n",
       "      <th>Yellow_Cards</th>\n",
       "      <th>Red_Cards</th>\n",
       "    </tr>\n",
       "  </thead>\n",
       "  <tbody>\n",
       "    <tr>\n",
       "      <th>count</th>\n",
       "      <td>532.000000</td>\n",
       "      <td>532.000000</td>\n",
       "      <td>532.000000</td>\n",
       "      <td>532.000000</td>\n",
       "      <td>532.000000</td>\n",
       "      <td>532.000000</td>\n",
       "      <td>532.000000</td>\n",
       "      <td>532.000000</td>\n",
       "      <td>532.000000</td>\n",
       "      <td>532.000000</td>\n",
       "      <td>532.000000</td>\n",
       "      <td>532.000000</td>\n",
       "      <td>532.000000</td>\n",
       "      <td>532.000000</td>\n",
       "    </tr>\n",
       "    <tr>\n",
       "      <th>mean</th>\n",
       "      <td>25.500000</td>\n",
       "      <td>19.535714</td>\n",
       "      <td>15.714286</td>\n",
       "      <td>1411.443609</td>\n",
       "      <td>1.853383</td>\n",
       "      <td>1.287594</td>\n",
       "      <td>717.750000</td>\n",
       "      <td>77.823872</td>\n",
       "      <td>0.191729</td>\n",
       "      <td>0.234962</td>\n",
       "      <td>0.113289</td>\n",
       "      <td>0.072650</td>\n",
       "      <td>2.114662</td>\n",
       "      <td>0.090226</td>\n",
       "    </tr>\n",
       "    <tr>\n",
       "      <th>std</th>\n",
       "      <td>4.319404</td>\n",
       "      <td>11.840459</td>\n",
       "      <td>11.921161</td>\n",
       "      <td>1043.171856</td>\n",
       "      <td>3.338009</td>\n",
       "      <td>2.095191</td>\n",
       "      <td>631.372522</td>\n",
       "      <td>13.011631</td>\n",
       "      <td>0.850881</td>\n",
       "      <td>0.975818</td>\n",
       "      <td>0.148174</td>\n",
       "      <td>0.090072</td>\n",
       "      <td>2.269094</td>\n",
       "      <td>0.293268</td>\n",
       "    </tr>\n",
       "    <tr>\n",
       "      <th>min</th>\n",
       "      <td>16.000000</td>\n",
       "      <td>1.000000</td>\n",
       "      <td>0.000000</td>\n",
       "      <td>1.000000</td>\n",
       "      <td>0.000000</td>\n",
       "      <td>0.000000</td>\n",
       "      <td>0.000000</td>\n",
       "      <td>-1.000000</td>\n",
       "      <td>0.000000</td>\n",
       "      <td>0.000000</td>\n",
       "      <td>0.000000</td>\n",
       "      <td>0.000000</td>\n",
       "      <td>0.000000</td>\n",
       "      <td>0.000000</td>\n",
       "    </tr>\n",
       "    <tr>\n",
       "      <th>25%</th>\n",
       "      <td>22.000000</td>\n",
       "      <td>9.000000</td>\n",
       "      <td>4.000000</td>\n",
       "      <td>426.000000</td>\n",
       "      <td>0.000000</td>\n",
       "      <td>0.000000</td>\n",
       "      <td>171.500000</td>\n",
       "      <td>73.500000</td>\n",
       "      <td>0.000000</td>\n",
       "      <td>0.000000</td>\n",
       "      <td>0.010000</td>\n",
       "      <td>0.000000</td>\n",
       "      <td>0.000000</td>\n",
       "      <td>0.000000</td>\n",
       "    </tr>\n",
       "    <tr>\n",
       "      <th>50%</th>\n",
       "      <td>26.000000</td>\n",
       "      <td>21.000000</td>\n",
       "      <td>15.000000</td>\n",
       "      <td>1345.000000</td>\n",
       "      <td>1.000000</td>\n",
       "      <td>0.000000</td>\n",
       "      <td>573.500000</td>\n",
       "      <td>79.200000</td>\n",
       "      <td>0.000000</td>\n",
       "      <td>0.000000</td>\n",
       "      <td>0.060000</td>\n",
       "      <td>0.050000</td>\n",
       "      <td>2.000000</td>\n",
       "      <td>0.000000</td>\n",
       "    </tr>\n",
       "    <tr>\n",
       "      <th>75%</th>\n",
       "      <td>29.000000</td>\n",
       "      <td>30.000000</td>\n",
       "      <td>27.000000</td>\n",
       "      <td>2303.500000</td>\n",
       "      <td>2.000000</td>\n",
       "      <td>2.000000</td>\n",
       "      <td>1129.500000</td>\n",
       "      <td>84.625000</td>\n",
       "      <td>0.000000</td>\n",
       "      <td>0.000000</td>\n",
       "      <td>0.150000</td>\n",
       "      <td>0.110000</td>\n",
       "      <td>3.000000</td>\n",
       "      <td>0.000000</td>\n",
       "    </tr>\n",
       "    <tr>\n",
       "      <th>max</th>\n",
       "      <td>38.000000</td>\n",
       "      <td>38.000000</td>\n",
       "      <td>38.000000</td>\n",
       "      <td>3420.000000</td>\n",
       "      <td>23.000000</td>\n",
       "      <td>14.000000</td>\n",
       "      <td>3214.000000</td>\n",
       "      <td>100.000000</td>\n",
       "      <td>9.000000</td>\n",
       "      <td>10.000000</td>\n",
       "      <td>1.160000</td>\n",
       "      <td>0.900000</td>\n",
       "      <td>12.000000</td>\n",
       "      <td>2.000000</td>\n",
       "    </tr>\n",
       "  </tbody>\n",
       "</table>\n",
       "</div>"
      ],
      "text/plain": [
       "              Age     Matches      Starts         Mins       Goals  \\\n",
       "count  532.000000  532.000000  532.000000   532.000000  532.000000   \n",
       "mean    25.500000   19.535714   15.714286  1411.443609    1.853383   \n",
       "std      4.319404   11.840459   11.921161  1043.171856    3.338009   \n",
       "min     16.000000    1.000000    0.000000     1.000000    0.000000   \n",
       "25%     22.000000    9.000000    4.000000   426.000000    0.000000   \n",
       "50%     26.000000   21.000000   15.000000  1345.000000    1.000000   \n",
       "75%     29.000000   30.000000   27.000000  2303.500000    2.000000   \n",
       "max     38.000000   38.000000   38.000000  3420.000000   23.000000   \n",
       "\n",
       "          Assists  Passes_Attempted  Perc_Passes_Completed  Penalty_Goals  \\\n",
       "count  532.000000        532.000000             532.000000     532.000000   \n",
       "mean     1.287594        717.750000              77.823872       0.191729   \n",
       "std      2.095191        631.372522              13.011631       0.850881   \n",
       "min      0.000000          0.000000              -1.000000       0.000000   \n",
       "25%      0.000000        171.500000              73.500000       0.000000   \n",
       "50%      0.000000        573.500000              79.200000       0.000000   \n",
       "75%      2.000000       1129.500000              84.625000       0.000000   \n",
       "max     14.000000       3214.000000             100.000000       9.000000   \n",
       "\n",
       "       Penalty_Attempted          xG          xA  Yellow_Cards   Red_Cards  \n",
       "count         532.000000  532.000000  532.000000    532.000000  532.000000  \n",
       "mean            0.234962    0.113289    0.072650      2.114662    0.090226  \n",
       "std             0.975818    0.148174    0.090072      2.269094    0.293268  \n",
       "min             0.000000    0.000000    0.000000      0.000000    0.000000  \n",
       "25%             0.000000    0.010000    0.000000      0.000000    0.000000  \n",
       "50%             0.000000    0.060000    0.050000      2.000000    0.000000  \n",
       "75%             0.000000    0.150000    0.110000      3.000000    0.000000  \n",
       "max            10.000000    1.160000    0.900000     12.000000    2.000000  "
      ]
     },
     "execution_count": 8,
     "metadata": {},
     "output_type": "execute_result"
    }
   ],
   "source": [
    "epl_df.describe()"
   ]
  },
  {
   "cell_type": "markdown",
   "metadata": {},
   "source": [
    "### Create two new columns"
   ]
  },
  {
   "cell_type": "code",
   "execution_count": 11,
   "metadata": {},
   "outputs": [],
   "source": [
    "# Creating a column minutes per match\n",
    "\n",
    "epl_df['MinsPerMatch'] = (epl_df['Mins'] / epl_df['Matches']).astype(int)"
   ]
  },
  {
   "cell_type": "code",
   "execution_count": 12,
   "metadata": {},
   "outputs": [],
   "source": [
    "# Creating second column goals per match\n",
    "\n",
    "epl_df['GoalsPerMatch'] = (epl_df['Goals'] / epl_df['Matches']).astype(float)"
   ]
  },
  {
   "cell_type": "code",
   "execution_count": 13,
   "metadata": {},
   "outputs": [
    {
     "data": {
      "text/html": [
       "<div>\n",
       "<style scoped>\n",
       "    .dataframe tbody tr th:only-of-type {\n",
       "        vertical-align: middle;\n",
       "    }\n",
       "\n",
       "    .dataframe tbody tr th {\n",
       "        vertical-align: top;\n",
       "    }\n",
       "\n",
       "    .dataframe thead th {\n",
       "        text-align: right;\n",
       "    }\n",
       "</style>\n",
       "<table border=\"1\" class=\"dataframe\">\n",
       "  <thead>\n",
       "    <tr style=\"text-align: right;\">\n",
       "      <th></th>\n",
       "      <th>Name</th>\n",
       "      <th>Club</th>\n",
       "      <th>Nationality</th>\n",
       "      <th>Position</th>\n",
       "      <th>Age</th>\n",
       "      <th>Matches</th>\n",
       "      <th>Starts</th>\n",
       "      <th>Mins</th>\n",
       "      <th>Goals</th>\n",
       "      <th>Assists</th>\n",
       "      <th>Passes_Attempted</th>\n",
       "      <th>Perc_Passes_Completed</th>\n",
       "      <th>Penalty_Goals</th>\n",
       "      <th>Penalty_Attempted</th>\n",
       "      <th>xG</th>\n",
       "      <th>xA</th>\n",
       "      <th>Yellow_Cards</th>\n",
       "      <th>Red_Cards</th>\n",
       "      <th>MinsPerMatch</th>\n",
       "      <th>GoalsPerMatch</th>\n",
       "    </tr>\n",
       "  </thead>\n",
       "  <tbody>\n",
       "    <tr>\n",
       "      <th>0</th>\n",
       "      <td>Mason Mount</td>\n",
       "      <td>Chelsea</td>\n",
       "      <td>ENG</td>\n",
       "      <td>MF,FW</td>\n",
       "      <td>21</td>\n",
       "      <td>36</td>\n",
       "      <td>32</td>\n",
       "      <td>2890</td>\n",
       "      <td>6</td>\n",
       "      <td>5</td>\n",
       "      <td>1881</td>\n",
       "      <td>82.3</td>\n",
       "      <td>1</td>\n",
       "      <td>1</td>\n",
       "      <td>0.21</td>\n",
       "      <td>0.24</td>\n",
       "      <td>2</td>\n",
       "      <td>0</td>\n",
       "      <td>80</td>\n",
       "      <td>0.166667</td>\n",
       "    </tr>\n",
       "    <tr>\n",
       "      <th>1</th>\n",
       "      <td>Edouard Mendy</td>\n",
       "      <td>Chelsea</td>\n",
       "      <td>SEN</td>\n",
       "      <td>GK</td>\n",
       "      <td>28</td>\n",
       "      <td>31</td>\n",
       "      <td>31</td>\n",
       "      <td>2745</td>\n",
       "      <td>0</td>\n",
       "      <td>0</td>\n",
       "      <td>1007</td>\n",
       "      <td>84.6</td>\n",
       "      <td>0</td>\n",
       "      <td>0</td>\n",
       "      <td>0.00</td>\n",
       "      <td>0.00</td>\n",
       "      <td>2</td>\n",
       "      <td>0</td>\n",
       "      <td>88</td>\n",
       "      <td>0.000000</td>\n",
       "    </tr>\n",
       "    <tr>\n",
       "      <th>2</th>\n",
       "      <td>Timo Werner</td>\n",
       "      <td>Chelsea</td>\n",
       "      <td>GER</td>\n",
       "      <td>FW</td>\n",
       "      <td>24</td>\n",
       "      <td>35</td>\n",
       "      <td>29</td>\n",
       "      <td>2602</td>\n",
       "      <td>6</td>\n",
       "      <td>8</td>\n",
       "      <td>826</td>\n",
       "      <td>77.2</td>\n",
       "      <td>0</td>\n",
       "      <td>0</td>\n",
       "      <td>0.41</td>\n",
       "      <td>0.21</td>\n",
       "      <td>2</td>\n",
       "      <td>0</td>\n",
       "      <td>74</td>\n",
       "      <td>0.171429</td>\n",
       "    </tr>\n",
       "    <tr>\n",
       "      <th>3</th>\n",
       "      <td>Ben Chilwell</td>\n",
       "      <td>Chelsea</td>\n",
       "      <td>ENG</td>\n",
       "      <td>DF</td>\n",
       "      <td>23</td>\n",
       "      <td>27</td>\n",
       "      <td>27</td>\n",
       "      <td>2286</td>\n",
       "      <td>3</td>\n",
       "      <td>5</td>\n",
       "      <td>1806</td>\n",
       "      <td>78.6</td>\n",
       "      <td>0</td>\n",
       "      <td>0</td>\n",
       "      <td>0.10</td>\n",
       "      <td>0.11</td>\n",
       "      <td>3</td>\n",
       "      <td>0</td>\n",
       "      <td>84</td>\n",
       "      <td>0.111111</td>\n",
       "    </tr>\n",
       "    <tr>\n",
       "      <th>4</th>\n",
       "      <td>Reece James</td>\n",
       "      <td>Chelsea</td>\n",
       "      <td>ENG</td>\n",
       "      <td>DF</td>\n",
       "      <td>20</td>\n",
       "      <td>32</td>\n",
       "      <td>25</td>\n",
       "      <td>2373</td>\n",
       "      <td>1</td>\n",
       "      <td>2</td>\n",
       "      <td>1987</td>\n",
       "      <td>85.0</td>\n",
       "      <td>0</td>\n",
       "      <td>0</td>\n",
       "      <td>0.06</td>\n",
       "      <td>0.12</td>\n",
       "      <td>3</td>\n",
       "      <td>0</td>\n",
       "      <td>74</td>\n",
       "      <td>0.031250</td>\n",
       "    </tr>\n",
       "  </tbody>\n",
       "</table>\n",
       "</div>"
      ],
      "text/plain": [
       "            Name     Club Nationality Position  Age  Matches  Starts  Mins  \\\n",
       "0    Mason Mount  Chelsea         ENG    MF,FW   21       36      32  2890   \n",
       "1  Edouard Mendy  Chelsea         SEN       GK   28       31      31  2745   \n",
       "2    Timo Werner  Chelsea         GER       FW   24       35      29  2602   \n",
       "3   Ben Chilwell  Chelsea         ENG       DF   23       27      27  2286   \n",
       "4    Reece James  Chelsea         ENG       DF   20       32      25  2373   \n",
       "\n",
       "   Goals  Assists  Passes_Attempted  Perc_Passes_Completed  Penalty_Goals  \\\n",
       "0      6        5              1881                   82.3              1   \n",
       "1      0        0              1007                   84.6              0   \n",
       "2      6        8               826                   77.2              0   \n",
       "3      3        5              1806                   78.6              0   \n",
       "4      1        2              1987                   85.0              0   \n",
       "\n",
       "   Penalty_Attempted    xG    xA  Yellow_Cards  Red_Cards  MinsPerMatch  \\\n",
       "0                  1  0.21  0.24             2          0            80   \n",
       "1                  0  0.00  0.00             2          0            88   \n",
       "2                  0  0.41  0.21             2          0            74   \n",
       "3                  0  0.10  0.11             3          0            84   \n",
       "4                  0  0.06  0.12             3          0            74   \n",
       "\n",
       "   GoalsPerMatch  \n",
       "0       0.166667  \n",
       "1       0.000000  \n",
       "2       0.171429  \n",
       "3       0.111111  \n",
       "4       0.031250  "
      ]
     },
     "execution_count": 13,
     "metadata": {},
     "output_type": "execute_result"
    }
   ],
   "source": [
    "epl_df.head()"
   ]
  },
  {
   "cell_type": "markdown",
   "metadata": {},
   "source": [
    "**Total Goals of English Premier League**"
   ]
  },
  {
   "cell_type": "code",
   "execution_count": 16,
   "metadata": {},
   "outputs": [
    {
     "name": "stdout",
     "output_type": "stream",
     "text": [
      "Total goals of English Premier League is 986\n"
     ]
    }
   ],
   "source": [
    "Total_goals = epl_df['Goals'].sum()\n",
    "print(\"Total goals of English Premier League is \" + str(Total_goals))"
   ]
  },
  {
   "cell_type": "code",
   "execution_count": 18,
   "metadata": {},
   "outputs": [
    {
     "name": "stdout",
     "output_type": "stream",
     "text": [
      "Total penalty goals of EPL is 102\n"
     ]
    }
   ],
   "source": [
    "# Penalty Goals\n",
    "\n",
    "Total_penalty_goals = epl_df['Penalty_Goals'].sum()\n",
    "print(\"Total penalty goals of EPL is \" + str(Total_penalty_goals))"
   ]
  },
  {
   "cell_type": "code",
   "execution_count": 19,
   "metadata": {},
   "outputs": [
    {
     "name": "stdout",
     "output_type": "stream",
     "text": [
      "125\n"
     ]
    }
   ],
   "source": [
    "# Penalty Attempts\n",
    "\n",
    "Total_penalty_attempts = epl_df['Penalty_Attempted'].sum()\n",
    "print(Total_penalty_attempts)"
   ]
  },
  {
   "cell_type": "markdown",
   "metadata": {},
   "source": [
    "**Pie chart for penalties missed vs scored**"
   ]
  },
  {
   "cell_type": "code",
   "execution_count": 43,
   "metadata": {},
   "outputs": [
    {
     "data": {
      "image/png": "[encoded data removed]",
      "text/plain": [
       "<Figure size 936x432 with 1 Axes>"
      ]
     },
     "metadata": {},
     "output_type": "display_data"
    }
   ],
   "source": [
    "fig, ax = plt.subplots(figsize = (13, 6))\n",
    "pl_not_scored = epl_df['Penalty_Attempted'].sum() - Total_penalty_goals\n",
    "data = [pl_not_scored, Total_penalty_goals]\n",
    "labels = ['Penalties missed', 'Penalties Scored']\n",
    "color = sns.color_palette('Set2')\n",
    "plt.pie(data, labels = labels, colors = color, autopct = '%.0f%%')\n",
    "plt.show()"
   ]
  },
  {
   "cell_type": "code",
   "execution_count": 23,
   "metadata": {},
   "outputs": [
    {
     "data": {
      "text/plain": [
       "array(['MF,FW', 'GK', 'FW', 'DF', 'MF', 'FW,MF', 'FW,DF', 'DF,MF',\n",
       "       'MF,DF', 'DF,FW'], dtype=object)"
      ]
     },
     "execution_count": 23,
     "metadata": {},
     "output_type": "execute_result"
    }
   ],
   "source": [
    "# Unique Positions\n",
    "\n",
    "epl_df['Position'].unique()"
   ]
  },
  {
   "cell_type": "code",
   "execution_count": 25,
   "metadata": {},
   "outputs": [
    {
     "data": {
      "text/html": [
       "<div>\n",
       "<style scoped>\n",
       "    .dataframe tbody tr th:only-of-type {\n",
       "        vertical-align: middle;\n",
       "    }\n",
       "\n",
       "    .dataframe tbody tr th {\n",
       "        vertical-align: top;\n",
       "    }\n",
       "\n",
       "    .dataframe thead th {\n",
       "        text-align: right;\n",
       "    }\n",
       "</style>\n",
       "<table border=\"1\" class=\"dataframe\">\n",
       "  <thead>\n",
       "    <tr style=\"text-align: right;\">\n",
       "      <th></th>\n",
       "      <th>Name</th>\n",
       "      <th>Club</th>\n",
       "      <th>Nationality</th>\n",
       "      <th>Position</th>\n",
       "      <th>Age</th>\n",
       "      <th>Matches</th>\n",
       "      <th>Starts</th>\n",
       "      <th>Mins</th>\n",
       "      <th>Goals</th>\n",
       "      <th>Assists</th>\n",
       "      <th>Passes_Attempted</th>\n",
       "      <th>Perc_Passes_Completed</th>\n",
       "      <th>Penalty_Goals</th>\n",
       "      <th>Penalty_Attempted</th>\n",
       "      <th>xG</th>\n",
       "      <th>xA</th>\n",
       "      <th>Yellow_Cards</th>\n",
       "      <th>Red_Cards</th>\n",
       "      <th>MinsPerMatch</th>\n",
       "      <th>GoalsPerMatch</th>\n",
       "    </tr>\n",
       "  </thead>\n",
       "  <tbody>\n",
       "    <tr>\n",
       "      <th>2</th>\n",
       "      <td>Timo Werner</td>\n",
       "      <td>Chelsea</td>\n",
       "      <td>GER</td>\n",
       "      <td>FW</td>\n",
       "      <td>24</td>\n",
       "      <td>35</td>\n",
       "      <td>29</td>\n",
       "      <td>2602</td>\n",
       "      <td>6</td>\n",
       "      <td>8</td>\n",
       "      <td>826</td>\n",
       "      <td>77.2</td>\n",
       "      <td>0</td>\n",
       "      <td>0</td>\n",
       "      <td>0.41</td>\n",
       "      <td>0.21</td>\n",
       "      <td>2</td>\n",
       "      <td>0</td>\n",
       "      <td>74</td>\n",
       "      <td>0.171429</td>\n",
       "    </tr>\n",
       "    <tr>\n",
       "      <th>16</th>\n",
       "      <td>Tammy Abraham</td>\n",
       "      <td>Chelsea</td>\n",
       "      <td>ENG</td>\n",
       "      <td>FW</td>\n",
       "      <td>22</td>\n",
       "      <td>22</td>\n",
       "      <td>12</td>\n",
       "      <td>1040</td>\n",
       "      <td>6</td>\n",
       "      <td>1</td>\n",
       "      <td>218</td>\n",
       "      <td>68.3</td>\n",
       "      <td>0</td>\n",
       "      <td>0</td>\n",
       "      <td>0.56</td>\n",
       "      <td>0.07</td>\n",
       "      <td>0</td>\n",
       "      <td>0</td>\n",
       "      <td>47</td>\n",
       "      <td>0.272727</td>\n",
       "    </tr>\n",
       "    <tr>\n",
       "      <th>19</th>\n",
       "      <td>Olivier Giroud</td>\n",
       "      <td>Chelsea</td>\n",
       "      <td>FRA</td>\n",
       "      <td>FW</td>\n",
       "      <td>33</td>\n",
       "      <td>17</td>\n",
       "      <td>8</td>\n",
       "      <td>748</td>\n",
       "      <td>4</td>\n",
       "      <td>0</td>\n",
       "      <td>217</td>\n",
       "      <td>74.2</td>\n",
       "      <td>0</td>\n",
       "      <td>0</td>\n",
       "      <td>0.58</td>\n",
       "      <td>0.09</td>\n",
       "      <td>1</td>\n",
       "      <td>0</td>\n",
       "      <td>44</td>\n",
       "      <td>0.235294</td>\n",
       "    </tr>\n",
       "    <tr>\n",
       "      <th>23</th>\n",
       "      <td>Ruben Loftus-Cheek</td>\n",
       "      <td>Chelsea</td>\n",
       "      <td>ENG</td>\n",
       "      <td>FW</td>\n",
       "      <td>24</td>\n",
       "      <td>1</td>\n",
       "      <td>1</td>\n",
       "      <td>60</td>\n",
       "      <td>0</td>\n",
       "      <td>0</td>\n",
       "      <td>16</td>\n",
       "      <td>68.8</td>\n",
       "      <td>0</td>\n",
       "      <td>0</td>\n",
       "      <td>0.00</td>\n",
       "      <td>0.00</td>\n",
       "      <td>0</td>\n",
       "      <td>0</td>\n",
       "      <td>60</td>\n",
       "      <td>0.000000</td>\n",
       "    </tr>\n",
       "    <tr>\n",
       "      <th>30</th>\n",
       "      <td>Raheem Sterling</td>\n",
       "      <td>Manchester City</td>\n",
       "      <td>ENG</td>\n",
       "      <td>FW</td>\n",
       "      <td>25</td>\n",
       "      <td>31</td>\n",
       "      <td>28</td>\n",
       "      <td>2536</td>\n",
       "      <td>10</td>\n",
       "      <td>7</td>\n",
       "      <td>1127</td>\n",
       "      <td>85.4</td>\n",
       "      <td>0</td>\n",
       "      <td>1</td>\n",
       "      <td>0.43</td>\n",
       "      <td>0.17</td>\n",
       "      <td>4</td>\n",
       "      <td>0</td>\n",
       "      <td>81</td>\n",
       "      <td>0.322581</td>\n",
       "    </tr>\n",
       "  </tbody>\n",
       "</table>\n",
       "</div>"
      ],
      "text/plain": [
       "                  Name             Club Nationality Position  Age  Matches  \\\n",
       "2          Timo Werner          Chelsea         GER       FW   24       35   \n",
       "16       Tammy Abraham          Chelsea         ENG       FW   22       22   \n",
       "19      Olivier Giroud          Chelsea         FRA       FW   33       17   \n",
       "23  Ruben Loftus-Cheek          Chelsea         ENG       FW   24        1   \n",
       "30     Raheem Sterling  Manchester City         ENG       FW   25       31   \n",
       "\n",
       "    Starts  Mins  Goals  Assists  Passes_Attempted  Perc_Passes_Completed  \\\n",
       "2       29  2602      6        8               826                   77.2   \n",
       "16      12  1040      6        1               218                   68.3   \n",
       "19       8   748      4        0               217                   74.2   \n",
       "23       1    60      0        0                16                   68.8   \n",
       "30      28  2536     10        7              1127                   85.4   \n",
       "\n",
       "    Penalty_Goals  Penalty_Attempted    xG    xA  Yellow_Cards  Red_Cards  \\\n",
       "2               0                  0  0.41  0.21             2          0   \n",
       "16              0                  0  0.56  0.07             0          0   \n",
       "19              0                  0  0.58  0.09             1          0   \n",
       "23              0                  0  0.00  0.00             0          0   \n",
       "30              0                  1  0.43  0.17             4          0   \n",
       "\n",
       "    MinsPerMatch  GoalsPerMatch  \n",
       "2             74       0.171429  \n",
       "16            47       0.272727  \n",
       "19            44       0.235294  \n",
       "23            60       0.000000  \n",
       "30            81       0.322581  "
      ]
     },
     "execution_count": 25,
     "metadata": {},
     "output_type": "execute_result"
    }
   ],
   "source": [
    "# Total Forward Players\n",
    "\n",
    "fw_players = epl_df[epl_df['Position'] == 'FW']\n",
    "fw_players.head()"
   ]
  },
  {
   "cell_type": "code",
   "execution_count": 28,
   "metadata": {},
   "outputs": [
    {
     "name": "stdout",
     "output_type": "stream",
     "text": [
      "There are total 59 nations from which different players are playing.\n"
     ]
    }
   ],
   "source": [
    "# Players from different nations\n",
    "\n",
    "unique_nations = np.size((epl_df['Nationality'].unique()))\n",
    "print(\"There are total \" + str(unique_nations) + \" nations from which different players are playing.\")"
   ]
  },
  {
   "cell_type": "code",
   "execution_count": 33,
   "metadata": {},
   "outputs": [
    {
     "data": {
      "text/plain": [
       "<AxesSubplot:xlabel='Nationality'>"
      ]
     },
     "execution_count": 33,
     "metadata": {},
     "output_type": "execute_result"
    },
    {
     "data": {
      "image/png": "[encoded data removed]",
      "text/plain": [
       "<Figure size 864x432 with 1 Axes>"
      ]
     },
     "metadata": {
      "needs_background": "light"
     },
     "output_type": "display_data"
    }
   ],
   "source": [
    "# Most players come from which countries\n",
    "\n",
    "nationality = epl_df.groupby('Nationality').size().sort_values(ascending = False)\n",
    "nationality.head(10).plot(\n",
    "    kind = 'bar',\n",
    "    figsize = (12, 6),\n",
    "    color = sns.color_palette('magma'),\n",
    "    rot = 45\n",
    ")"
   ]
  },
  {
   "cell_type": "code",
   "execution_count": 32,
   "metadata": {},
   "outputs": [
    {
     "data": {
      "text/plain": [
       "<AxesSubplot:>"
      ]
     },
     "execution_count": 32,
     "metadata": {},
     "output_type": "execute_result"
    },
    {
     "data": {
      "image/png": "[encoded data removed]",
      "text/plain": [
       "<Figure size 432x288 with 1 Axes>"
      ]
     },
     "metadata": {
      "needs_background": "light"
     },
     "output_type": "display_data"
    }
   ],
   "source": [
    "# Clubs with maximum players in their squad\n",
    "\n",
    "epl_df['Club'].value_counts().nlargest(5).plot(\n",
    "    kind = 'bar',\n",
    "    color = sns.color_palette('viridis'),\n",
    "    rot = 45\n",
    ")"
   ]
  },
  {
   "cell_type": "code",
   "execution_count": 34,
   "metadata": {},
   "outputs": [
    {
     "data": {
      "text/plain": [
       "<AxesSubplot:>"
      ]
     },
     "execution_count": 34,
     "metadata": {},
     "output_type": "execute_result"
    },
    {
     "data": {
      "image/png": "[encoded data removed]",
      "text/plain": [
       "<Figure size 432x288 with 1 Axes>"
      ]
     },
     "metadata": {
      "needs_background": "light"
     },
     "output_type": "display_data"
    }
   ],
   "source": [
    "# Clubs with least players in their squad\n",
    "\n",
    "epl_df['Club'].value_counts().nsmallest(5).plot(\n",
    "    kind = 'bar',\n",
    "    color = sns.color_palette('viridis'),\n",
    "    rot = 45\n",
    ")"
   ]
  },
  {
   "cell_type": "code",
   "execution_count": 41,
   "metadata": {},
   "outputs": [],
   "source": [
    "# Players based on age group\n",
    "\n",
    "under20 = epl_df[epl_df['Age'] <= 20]\n",
    "age20_25 = epl_df[(epl_df['Age'] > 20) & (epl_df['Age'] <= 25)]\n",
    "age25_30 = epl_df[(epl_df['Age'] > 25) & (epl_df['Age'] <= 30)]\n",
    "Above30 = epl_df[epl_df['Age'] > 30]"
   ]
  },
  {
   "cell_type": "code",
   "execution_count": 42,
   "metadata": {},
   "outputs": [
    {
     "data": {
      "image/png": "[encoded data removed]",
      "text/plain": [
       "<Figure size 864x432 with 1 Axes>"
      ]
     },
     "metadata": {},
     "output_type": "display_data"
    }
   ],
   "source": [
    "x = np.array(\n",
    "    [\n",
    "        under20['Name'].count(),\n",
    "        age20_25['Name'].count(),\n",
    "        age25_30['Name'].count(),\n",
    "        Above30['Name'].count()\n",
    "    ]\n",
    ")\n",
    "plt.figure(figsize = (12, 6))\n",
    "mylabels = [\"<=20\", \">20 & <=25\", \">25 & <= 30\", \">30\"]\n",
    "plt.title('Total Players with Age Groups', fontsize = 20)\n",
    "plt.pie(x, labels = mylabels, autopct = \"%.1f%%\")\n",
    "plt.show()"
   ]
  },
  {
   "cell_type": "code",
   "execution_count": 44,
   "metadata": {},
   "outputs": [
    {
     "data": {
      "text/plain": [
       "<AxesSubplot:>"
      ]
     },
     "execution_count": 44,
     "metadata": {},
     "output_type": "execute_result"
    },
    {
     "data": {
      "image/png": "[encoded data removed]",
      "text/plain": [
       "<Figure size 432x288 with 1 Axes>"
      ]
     },
     "metadata": {
      "needs_background": "light"
     },
     "output_type": "display_data"
    }
   ],
   "source": [
    "# Total under 20 players in each club\n",
    "\n",
    "players_under_20 = epl_df[epl_df['Age'] < 20]\n",
    "players_under_20['Club'].value_counts().plot(\n",
    "    kind = 'bar',\n",
    "    color = sns.color_palette('cubehelix')\n",
    ")"
   ]
  },
  {
   "cell_type": "code",
   "execution_count": 45,
   "metadata": {},
   "outputs": [
    {
     "data": {
      "text/html": [
       "<div>\n",
       "<style scoped>\n",
       "    .dataframe tbody tr th:only-of-type {\n",
       "        vertical-align: middle;\n",
       "    }\n",
       "\n",
       "    .dataframe tbody tr th {\n",
       "        vertical-align: top;\n",
       "    }\n",
       "\n",
       "    .dataframe thead th {\n",
       "        text-align: right;\n",
       "    }\n",
       "</style>\n",
       "<table border=\"1\" class=\"dataframe\">\n",
       "  <thead>\n",
       "    <tr style=\"text-align: right;\">\n",
       "      <th></th>\n",
       "      <th>Name</th>\n",
       "      <th>Club</th>\n",
       "      <th>Nationality</th>\n",
       "      <th>Position</th>\n",
       "      <th>Age</th>\n",
       "      <th>Matches</th>\n",
       "      <th>Starts</th>\n",
       "      <th>Mins</th>\n",
       "      <th>Goals</th>\n",
       "      <th>Assists</th>\n",
       "      <th>Passes_Attempted</th>\n",
       "      <th>Perc_Passes_Completed</th>\n",
       "      <th>Penalty_Goals</th>\n",
       "      <th>Penalty_Attempted</th>\n",
       "      <th>xG</th>\n",
       "      <th>xA</th>\n",
       "      <th>Yellow_Cards</th>\n",
       "      <th>Red_Cards</th>\n",
       "      <th>MinsPerMatch</th>\n",
       "      <th>GoalsPerMatch</th>\n",
       "    </tr>\n",
       "  </thead>\n",
       "  <tbody>\n",
       "    <tr>\n",
       "      <th>61</th>\n",
       "      <td>Mason Greenwood</td>\n",
       "      <td>Manchester United</td>\n",
       "      <td>ENG</td>\n",
       "      <td>FW</td>\n",
       "      <td>18</td>\n",
       "      <td>31</td>\n",
       "      <td>21</td>\n",
       "      <td>1822</td>\n",
       "      <td>7</td>\n",
       "      <td>2</td>\n",
       "      <td>732</td>\n",
       "      <td>83.1</td>\n",
       "      <td>0</td>\n",
       "      <td>0</td>\n",
       "      <td>0.37</td>\n",
       "      <td>0.09</td>\n",
       "      <td>2</td>\n",
       "      <td>0</td>\n",
       "      <td>58</td>\n",
       "      <td>0.225806</td>\n",
       "    </tr>\n",
       "    <tr>\n",
       "      <th>72</th>\n",
       "      <td>Brandon Williams</td>\n",
       "      <td>Manchester United</td>\n",
       "      <td>ENG</td>\n",
       "      <td>DF</td>\n",
       "      <td>19</td>\n",
       "      <td>4</td>\n",
       "      <td>2</td>\n",
       "      <td>188</td>\n",
       "      <td>0</td>\n",
       "      <td>0</td>\n",
       "      <td>140</td>\n",
       "      <td>85.7</td>\n",
       "      <td>0</td>\n",
       "      <td>0</td>\n",
       "      <td>0.05</td>\n",
       "      <td>0.01</td>\n",
       "      <td>0</td>\n",
       "      <td>0</td>\n",
       "      <td>47</td>\n",
       "      <td>0.000000</td>\n",
       "    </tr>\n",
       "    <tr>\n",
       "      <th>73</th>\n",
       "      <td>Amad Diallo</td>\n",
       "      <td>Manchester United</td>\n",
       "      <td>CIV</td>\n",
       "      <td>FW</td>\n",
       "      <td>18</td>\n",
       "      <td>3</td>\n",
       "      <td>2</td>\n",
       "      <td>166</td>\n",
       "      <td>0</td>\n",
       "      <td>1</td>\n",
       "      <td>64</td>\n",
       "      <td>84.4</td>\n",
       "      <td>0</td>\n",
       "      <td>0</td>\n",
       "      <td>0.02</td>\n",
       "      <td>0.26</td>\n",
       "      <td>0</td>\n",
       "      <td>0</td>\n",
       "      <td>55</td>\n",
       "      <td>0.000000</td>\n",
       "    </tr>\n",
       "    <tr>\n",
       "      <th>74</th>\n",
       "      <td>Anthony Elanga</td>\n",
       "      <td>Manchester United</td>\n",
       "      <td>SWE</td>\n",
       "      <td>FW</td>\n",
       "      <td>18</td>\n",
       "      <td>2</td>\n",
       "      <td>2</td>\n",
       "      <td>155</td>\n",
       "      <td>1</td>\n",
       "      <td>0</td>\n",
       "      <td>53</td>\n",
       "      <td>81.1</td>\n",
       "      <td>0</td>\n",
       "      <td>0</td>\n",
       "      <td>0.16</td>\n",
       "      <td>0.02</td>\n",
       "      <td>0</td>\n",
       "      <td>0</td>\n",
       "      <td>77</td>\n",
       "      <td>0.500000</td>\n",
       "    </tr>\n",
       "    <tr>\n",
       "      <th>76</th>\n",
       "      <td>Shola Shoretire</td>\n",
       "      <td>Manchester United</td>\n",
       "      <td>ENG</td>\n",
       "      <td>FW</td>\n",
       "      <td>16</td>\n",
       "      <td>2</td>\n",
       "      <td>0</td>\n",
       "      <td>11</td>\n",
       "      <td>0</td>\n",
       "      <td>0</td>\n",
       "      <td>8</td>\n",
       "      <td>75.0</td>\n",
       "      <td>0</td>\n",
       "      <td>0</td>\n",
       "      <td>0.00</td>\n",
       "      <td>0.00</td>\n",
       "      <td>0</td>\n",
       "      <td>0</td>\n",
       "      <td>5</td>\n",
       "      <td>0.000000</td>\n",
       "    </tr>\n",
       "    <tr>\n",
       "      <th>78</th>\n",
       "      <td>Hannibal Mejbri</td>\n",
       "      <td>Manchester United</td>\n",
       "      <td>FRA</td>\n",
       "      <td>MF</td>\n",
       "      <td>17</td>\n",
       "      <td>1</td>\n",
       "      <td>0</td>\n",
       "      <td>9</td>\n",
       "      <td>0</td>\n",
       "      <td>0</td>\n",
       "      <td>3</td>\n",
       "      <td>100.0</td>\n",
       "      <td>0</td>\n",
       "      <td>0</td>\n",
       "      <td>0.00</td>\n",
       "      <td>0.00</td>\n",
       "      <td>0</td>\n",
       "      <td>0</td>\n",
       "      <td>9</td>\n",
       "      <td>0.000000</td>\n",
       "    </tr>\n",
       "    <tr>\n",
       "      <th>79</th>\n",
       "      <td>William Thomas Fish</td>\n",
       "      <td>Manchester United</td>\n",
       "      <td>ENG</td>\n",
       "      <td>DF</td>\n",
       "      <td>17</td>\n",
       "      <td>1</td>\n",
       "      <td>0</td>\n",
       "      <td>1</td>\n",
       "      <td>0</td>\n",
       "      <td>0</td>\n",
       "      <td>1</td>\n",
       "      <td>0.0</td>\n",
       "      <td>0</td>\n",
       "      <td>0</td>\n",
       "      <td>0.00</td>\n",
       "      <td>0.00</td>\n",
       "      <td>0</td>\n",
       "      <td>0</td>\n",
       "      <td>1</td>\n",
       "      <td>0.000000</td>\n",
       "    </tr>\n",
       "  </tbody>\n",
       "</table>\n",
       "</div>"
      ],
      "text/plain": [
       "                   Name               Club Nationality Position  Age  Matches  \\\n",
       "61      Mason Greenwood  Manchester United         ENG       FW   18       31   \n",
       "72     Brandon Williams  Manchester United         ENG       DF   19        4   \n",
       "73          Amad Diallo  Manchester United         CIV       FW   18        3   \n",
       "74       Anthony Elanga  Manchester United         SWE       FW   18        2   \n",
       "76      Shola Shoretire  Manchester United         ENG       FW   16        2   \n",
       "78      Hannibal Mejbri  Manchester United         FRA       MF   17        1   \n",
       "79  William Thomas Fish  Manchester United         ENG       DF   17        1   \n",
       "\n",
       "    Starts  Mins  Goals  Assists  Passes_Attempted  Perc_Passes_Completed  \\\n",
       "61      21  1822      7        2               732                   83.1   \n",
       "72       2   188      0        0               140                   85.7   \n",
       "73       2   166      0        1                64                   84.4   \n",
       "74       2   155      1        0                53                   81.1   \n",
       "76       0    11      0        0                 8                   75.0   \n",
       "78       0     9      0        0                 3                  100.0   \n",
       "79       0     1      0        0                 1                    0.0   \n",
       "\n",
       "    Penalty_Goals  Penalty_Attempted    xG    xA  Yellow_Cards  Red_Cards  \\\n",
       "61              0                  0  0.37  0.09             2          0   \n",
       "72              0                  0  0.05  0.01             0          0   \n",
       "73              0                  0  0.02  0.26             0          0   \n",
       "74              0                  0  0.16  0.02             0          0   \n",
       "76              0                  0  0.00  0.00             0          0   \n",
       "78              0                  0  0.00  0.00             0          0   \n",
       "79              0                  0  0.00  0.00             0          0   \n",
       "\n",
       "    MinsPerMatch  GoalsPerMatch  \n",
       "61            58       0.225806  \n",
       "72            47       0.000000  \n",
       "73            55       0.000000  \n",
       "74            77       0.500000  \n",
       "76             5       0.000000  \n",
       "78             9       0.000000  \n",
       "79             1       0.000000  "
      ]
     },
     "execution_count": 45,
     "metadata": {},
     "output_type": "execute_result"
    }
   ],
   "source": [
    "# Under 20 players in ManU\n",
    "\n",
    "players_under_20[players_under_20['Club'] == \"Manchester United\"]"
   ]
  },
  {
   "cell_type": "code",
   "execution_count": 46,
   "metadata": {},
   "outputs": [
    {
     "data": {
      "text/plain": [
       "(array([ 0,  1,  2,  3,  4,  5,  6,  7,  8,  9, 10, 11, 12, 13, 14, 15, 16,\n",
       "        17, 18, 19]),\n",
       " [Text(0, 0, 'Chelsea'),\n",
       "  Text(1, 0, 'Manchester City'),\n",
       "  Text(2, 0, 'Manchester United'),\n",
       "  Text(3, 0, 'Liverpool FC'),\n",
       "  Text(4, 0, 'Leicester City'),\n",
       "  Text(5, 0, 'West Ham United'),\n",
       "  Text(6, 0, 'Tottenham Hotspur'),\n",
       "  Text(7, 0, 'Arsenal'),\n",
       "  Text(8, 0, 'Leeds United'),\n",
       "  Text(9, 0, 'Everton'),\n",
       "  Text(10, 0, 'Aston Villa'),\n",
       "  Text(11, 0, 'Newcastle United'),\n",
       "  Text(12, 0, 'Wolverhampton Wanderers'),\n",
       "  Text(13, 0, 'Crystal Palace'),\n",
       "  Text(14, 0, 'Southampton'),\n",
       "  Text(15, 0, 'Brighton'),\n",
       "  Text(16, 0, 'Burnley'),\n",
       "  Text(17, 0, 'Fulham'),\n",
       "  Text(18, 0, 'West Bromwich Albion'),\n",
       "  Text(19, 0, 'Sheffield United')])"
      ]
     },
     "execution_count": 46,
     "metadata": {},
     "output_type": "execute_result"
    },
    {
     "data": {
      "image/png": "[encoded data removed]",
      "text/plain": [
       "<Figure size 864x432 with 1 Axes>"
      ]
     },
     "metadata": {
      "needs_background": "light"
     },
     "output_type": "display_data"
    }
   ],
   "source": [
    "# Average age of players in each club\n",
    "\n",
    "plt.figure(figsize = (12, 6))\n",
    "sns.boxplot(\n",
    "    x = 'Club',\n",
    "    y = 'Age',\n",
    "    data = epl_df\n",
    ")\n",
    "plt.xticks(rotation = 90)"
   ]
  }
 ],
 "metadata": {
  "kernelspec": {
   "display_name": "Python 3.10.4 64-bit",
   "language": "python",
   "name": "python3"
  },
  "language_info": {
   "codemirror_mode": {
    "name": "ipython",
    "version": 3
   },
   "file_extension": ".py",
   "mimetype": "text/x-python",
   "name": "python",
   "nbconvert_exporter": "python",
   "pygments_lexer": "ipython3",
   "version": "3.10.4"
  },
  "orig_nbformat": 4,
  "vscode": {
   "interpreter": {
    "hash": "689ce70f491755004657c62a40aa913e1005ad46291934f1e8a350e575c2ff73"
   }
  }
 },
 "nbformat": 4,
 "nbformat_minor": 2
}
